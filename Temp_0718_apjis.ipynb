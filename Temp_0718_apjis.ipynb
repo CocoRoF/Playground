{
 "cells": [
  {
   "cell_type": "code",
   "execution_count": 2,
   "metadata": {},
   "outputs": [],
   "source": [
    "import pandas as pd\n",
    "import os\n",
    "import networkx as nx\n",
    "from utility.apjis_Make_graph_Df_merge import misq_apjis_preprocessing, graph_make\n",
    "from collections import Counter\n"
   ]
  },
  {
   "cell_type": "code",
   "execution_count": 3,
   "metadata": {},
   "outputs": [],
   "source": [
    "apjis_data_path = './Data/apjis/APJIS_연도별/'\n",
    "misq_data_path = './Data/apjis/MISQ_연도별/'"
   ]
  },
  {
   "cell_type": "code",
   "execution_count": 4,
   "metadata": {},
   "outputs": [],
   "source": [
    "apjis = misq_apjis_preprocessing(apjis_data_path)\n",
    "misq = misq_apjis_preprocessing(misq_data_path)"
   ]
  },
  {
   "cell_type": "code",
   "execution_count": 17,
   "metadata": {},
   "outputs": [],
   "source": [
    "# 0~6까지 번호 지정.\n",
    "# 0 = 1991~1994년, 1 = 1995~1999년, 2 = 2000~2004년, 3 = 2005~2009년, 4 = 2010~2014년, 5 = 2015~2019년, 6 = 2020~2022년\n",
    "\n",
    "data = graph_make(apjis[0])"
   ]
  },
  {
   "cell_type": "code",
   "execution_count": 6,
   "metadata": {},
   "outputs": [],
   "source": [
    "graph = data.graph()"
   ]
  },
  {
   "cell_type": "code",
   "execution_count": 8,
   "metadata": {},
   "outputs": [],
   "source": [
    "nx.write_gexf(graph, './test.gexf')"
   ]
  }
 ],
 "metadata": {
  "kernelspec": {
   "display_name": "python_310",
   "language": "python",
   "name": "python3"
  },
  "language_info": {
   "codemirror_mode": {
    "name": "ipython",
    "version": 3
   },
   "file_extension": ".py",
   "mimetype": "text/x-python",
   "name": "python",
   "nbconvert_exporter": "python",
   "pygments_lexer": "ipython3",
   "version": "3.10.11"
  },
  "orig_nbformat": 4
 },
 "nbformat": 4,
 "nbformat_minor": 2
}
